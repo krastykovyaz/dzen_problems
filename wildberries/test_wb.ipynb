{
 "cells": [
  {
   "cell_type": "code",
   "execution_count": 1,
   "id": "2278f54b-092f-46d8-94b4-ee318b9dcf96",
   "metadata": {},
   "outputs": [],
   "source": [
    "file = 'test_data/input.txt'"
   ]
  },
  {
   "cell_type": "code",
   "execution_count": 2,
   "id": "eaef99a0-b2ef-4d44-b35e-698cf1274552",
   "metadata": {},
   "outputs": [],
   "source": [
    "with open(file, 'r') as f:\n",
    "    data = f.readlines()\n",
    "clean_data = [d.strip() for d in  data]"
   ]
  },
  {
   "cell_type": "code",
   "execution_count": 3,
   "id": "a048dc0d-c68b-449e-bc4b-89430f81b6e2",
   "metadata": {},
   "outputs": [],
   "source": [
    "from collections import defaultdict\n",
    "collector = defaultdict(list)\n",
    "for val in clean_data:\n",
    "     collector[len(val)].append(val)"
   ]
  },
  {
   "cell_type": "code",
   "execution_count": 4,
   "id": "3c4a9d60-584d-4788-8c97-418e1c1711e2",
   "metadata": {},
   "outputs": [],
   "source": [
    "def find_median(s):\n",
    "    s = list(map(int, s))\n",
    "    ss = sorted(s)\n",
    "    if len(ss) % 2 == 0:\n",
    "        return (ss[len(ss)// 2 - 1]  + ss[len(ss)// 2]) / 2\n",
    "    else:\n",
    "        return ss[len(ss) // 2]"
   ]
  },
  {
   "cell_type": "code",
   "execution_count": 5,
   "id": "7f1135a9-d22c-4591-a0b0-a293ad0fb83b",
   "metadata": {},
   "outputs": [],
   "source": [
    "from collections import Counter\n",
    "modes = {}\n",
    "median = {}\n",
    "for k, v in collector.items():\n",
    "    d = Counter(v)\n",
    "    modes[k] = d.most_common()[0][0]\n",
    "    median[k] = find_median(v)\n",
    "    "
   ]
  },
  {
   "cell_type": "code",
   "execution_count": 6,
   "id": "70d28703-30c4-4ea5-876c-187b17692bd4",
   "metadata": {},
   "outputs": [
    {
     "name": "stdout",
     "output_type": "stream",
     "text": [
      "4498890 -> 4,498,890\n",
      "178430 -> 178,430\n",
      "40211 -> 40,211\n",
      "3480 -> 3,480\n",
      "712 -> 712\n",
      "60 -> 60\n",
      "5 -> 5\n"
     ]
    }
   ],
   "source": [
    "def cut_str(ex='44988900908'):\n",
    "    ex_rev = ex[::-1]\n",
    "    new_str = []\n",
    "    i = 1\n",
    "    while i < len(ex_rev):\n",
    "        new_str.append(ex_rev[i-1])\n",
    "        if i > 0 and i % 3 == 0:\n",
    "            new_str.append(',')\n",
    "        i += 1\n",
    "    new_str.append(ex_rev[i-1])\n",
    "    return ''.join(new_str[::-1]).strip(',')\n",
    "    \n",
    "for k in sorted(list(modes.keys()))[::-1]:\n",
    "    print(f\"{modes[k]} -> {cut_str(modes[k])}\")"
   ]
  },
  {
   "cell_type": "code",
   "execution_count": null,
   "id": "74e1c823-bf81-471b-9677-4c55183daac7",
   "metadata": {},
   "outputs": [],
   "source": []
  },
  {
   "cell_type": "code",
   "execution_count": null,
   "id": "fdf932bd-0cf2-4c36-ae91-077cfdb64df4",
   "metadata": {},
   "outputs": [],
   "source": []
  },
  {
   "cell_type": "code",
   "execution_count": null,
   "id": "1a9e6ed6-ba7e-43f8-a400-649818a7fec1",
   "metadata": {},
   "outputs": [],
   "source": []
  },
  {
   "cell_type": "code",
   "execution_count": null,
   "id": "e8a2d372-fa76-4f0d-833b-ce4295660b6b",
   "metadata": {},
   "outputs": [],
   "source": []
  },
  {
   "cell_type": "code",
   "execution_count": null,
   "id": "d09f0b31-57b3-450a-ad3f-7e945354d93f",
   "metadata": {},
   "outputs": [],
   "source": []
  },
  {
   "cell_type": "code",
   "execution_count": null,
   "id": "1e8c37f0-37b4-4796-bfaa-73a51e5992b2",
   "metadata": {},
   "outputs": [],
   "source": []
  },
  {
   "cell_type": "code",
   "execution_count": null,
   "id": "b81e625f-1fe8-4bb4-b78e-c60fbdad2b56",
   "metadata": {},
   "outputs": [],
   "source": []
  },
  {
   "cell_type": "code",
   "execution_count": null,
   "id": "07ae4af6-ff01-4a2c-a8ad-198f870a199f",
   "metadata": {},
   "outputs": [],
   "source": []
  },
  {
   "cell_type": "code",
   "execution_count": null,
   "id": "283c92e6-54ab-4736-8f58-20c4d6ab1766",
   "metadata": {},
   "outputs": [],
   "source": []
  },
  {
   "cell_type": "code",
   "execution_count": null,
   "id": "a69fcdd6-f0e2-403b-8ecf-40036fe6a109",
   "metadata": {},
   "outputs": [],
   "source": []
  },
  {
   "cell_type": "code",
   "execution_count": null,
   "id": "80483ba2-577e-4cf9-b3ee-918330af42dc",
   "metadata": {},
   "outputs": [],
   "source": []
  },
  {
   "cell_type": "code",
   "execution_count": null,
   "id": "e24e3426-a540-45f0-ab30-49ac2f5cc472",
   "metadata": {},
   "outputs": [],
   "source": []
  },
  {
   "cell_type": "code",
   "execution_count": null,
   "id": "9f4b16e9-0592-4db4-bcef-81e9f79b5131",
   "metadata": {},
   "outputs": [],
   "source": []
  },
  {
   "cell_type": "code",
   "execution_count": null,
   "id": "d5c64beb-9d2e-4e23-a469-aebc7d0b1fa3",
   "metadata": {},
   "outputs": [],
   "source": []
  },
  {
   "cell_type": "code",
   "execution_count": null,
   "id": "0c0014be-d92f-4206-a554-4a411aa3a792",
   "metadata": {},
   "outputs": [],
   "source": []
  },
  {
   "cell_type": "code",
   "execution_count": null,
   "id": "93cee032-25fd-48f5-90a4-6adae96e2b2d",
   "metadata": {},
   "outputs": [],
   "source": []
  },
  {
   "cell_type": "code",
   "execution_count": null,
   "id": "a64ae2ba-315f-46c2-8d5d-3ff9d0ee35d9",
   "metadata": {},
   "outputs": [],
   "source": []
  },
  {
   "cell_type": "code",
   "execution_count": null,
   "id": "a0d684fc-dd5e-4ec8-a243-f581ae719491",
   "metadata": {},
   "outputs": [],
   "source": []
  },
  {
   "cell_type": "code",
   "execution_count": null,
   "id": "87881425-bd85-4f27-8803-d2312c9ed4e1",
   "metadata": {},
   "outputs": [],
   "source": []
  }
 ],
 "metadata": {
  "kernelspec": {
   "display_name": "Python 3 (ipykernel)",
   "language": "python",
   "name": "python3"
  },
  "language_info": {
   "codemirror_mode": {
    "name": "ipython",
    "version": 3
   },
   "file_extension": ".py",
   "mimetype": "text/x-python",
   "name": "python",
   "nbconvert_exporter": "python",
   "pygments_lexer": "ipython3",
   "version": "3.8.16"
  }
 },
 "nbformat": 4,
 "nbformat_minor": 5
}
