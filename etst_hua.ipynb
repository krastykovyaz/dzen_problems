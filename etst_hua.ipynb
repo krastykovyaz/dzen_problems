{
 "cells": [
  {
   "cell_type": "code",
   "execution_count": 2,
   "id": "fa6b9b4e-6d2d-493d-a8f0-b1098697792a",
   "metadata": {},
   "outputs": [],
   "source": [
    "def f(n):\n",
    "     if n == 0 or n == 1:\n",
    "          return 1\n",
    "     return f(n - 2) + f(n - 1)"
   ]
  },
  {
   "cell_type": "code",
   "execution_count": 40,
   "id": "ee7b65f6-fdce-4597-b735-1829e8dd16a0",
   "metadata": {},
   "outputs": [],
   "source": [
    "def f2(n):\n",
    "    if n == 0 or n == 1:\n",
    "          return 1\n",
    "    out1 = 1\n",
    "    out2 = 1\n",
    "    i = 2\n",
    "    while i < n + 1:\n",
    "        out1, out2 = out2, out2+out1\n",
    "        i  += 1\n",
    "    return out2\n",
    "\n",
    "\n",
    "for val in [2, 3, 4, 5, 6, 7, 8]:\n",
    "    assert  f(val) == f2(val)"
   ]
  },
  {
   "cell_type": "code",
   "execution_count": null,
   "id": "22a9efc2-f0b1-46f0-abac-944c06e9fd27",
   "metadata": {},
   "outputs": [],
   "source": []
  },
  {
   "cell_type": "code",
   "execution_count": null,
   "id": "5868ac68-ebbb-4ed3-91d5-ce8f9297cd16",
   "metadata": {},
   "outputs": [],
   "source": []
  },
  {
   "cell_type": "code",
   "execution_count": null,
   "id": "c7abfe24-dce2-4406-9764-e35a66767e2a",
   "metadata": {},
   "outputs": [],
   "source": []
  },
  {
   "cell_type": "code",
   "execution_count": null,
   "id": "edcbb726-3d83-4813-a26c-fa2dbbc9d73c",
   "metadata": {},
   "outputs": [],
   "source": []
  },
  {
   "cell_type": "code",
   "execution_count": null,
   "id": "0f60d0fb-ce57-4f35-a2e3-0a3cc4fefa25",
   "metadata": {},
   "outputs": [],
   "source": []
  },
  {
   "cell_type": "code",
   "execution_count": null,
   "id": "a45f80c7-c6af-4d84-9b9b-127aa3e8956f",
   "metadata": {},
   "outputs": [],
   "source": []
  }
 ],
 "metadata": {
  "kernelspec": {
   "display_name": "Python 3 (ipykernel)",
   "language": "python",
   "name": "python3"
  },
  "language_info": {
   "codemirror_mode": {
    "name": "ipython",
    "version": 3
   },
   "file_extension": ".py",
   "mimetype": "text/x-python",
   "name": "python",
   "nbconvert_exporter": "python",
   "pygments_lexer": "ipython3",
   "version": "3.11.7"
  }
 },
 "nbformat": 4,
 "nbformat_minor": 5
}
