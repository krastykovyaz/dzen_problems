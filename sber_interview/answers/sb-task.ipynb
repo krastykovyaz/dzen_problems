{
 "cells": [
  {
   "cell_type": "markdown",
   "metadata": {},
   "source": [
    "### Классификация пользовательских запросов\n",
    "Предлагается решить задачу с помощью модели DistilBERT"
   ]
  },
  {
   "cell_type": "code",
   "execution_count": 19,
   "metadata": {
    "_cell_guid": "b1076dfc-b9ad-4769-8c92-a6c4dae69d19",
    "_uuid": "8f2839f25d086af736a60e9eeb907d3b93b6e0e5",
    "execution": {
     "iopub.execute_input": "2024-03-11T03:59:59.839725Z",
     "iopub.status.busy": "2024-03-11T03:59:59.839346Z",
     "iopub.status.idle": "2024-03-11T03:59:59.845766Z",
     "shell.execute_reply": "2024-03-11T03:59:59.844626Z",
     "shell.execute_reply.started": "2024-03-11T03:59:59.839696Z"
    }
   },
   "outputs": [],
   "source": [
    "# базовые импорты для работы с данными\n",
    "import pandas as pd\n",
    "import matplotlib.pyplot as plt\n",
    "\n",
    "# модель и токенайзер\n",
    "from transformers import DistilBertForSequenceClassification, DistilBertTokenizer\n",
    "\n",
    "# для дообучения\n",
    "import torch\n",
    "from torch.utils.data import Dataset, DataLoader\n",
    "from torch import nn\n",
    "from torch.optim import AdamW\n",
    "\n",
    "# препроцессинг + метрики\n",
    "from sklearn.model_selection import train_test_split\n",
    "from sklearn.preprocessing import LabelEncoder\n",
    "from sklearn.metrics import accuracy_score, precision_score, recall_score, f1_score\n",
    "\n",
    "from tqdm import tqdm"
   ]
  },
  {
   "cell_type": "code",
   "execution_count": 2,
   "metadata": {
    "execution": {
     "iopub.execute_input": "2024-03-11T03:58:50.477408Z",
     "iopub.status.busy": "2024-03-11T03:58:50.476838Z",
     "iopub.status.idle": "2024-03-11T03:58:50.552326Z",
     "shell.execute_reply": "2024-03-11T03:58:50.551089Z",
     "shell.execute_reply.started": "2024-03-11T03:58:50.477377Z"
    }
   },
   "outputs": [],
   "source": [
    "# загружаем данные\n",
    "df = pd.read_csv(\"/kaggle/input/sb-ds-task/data.csv\")"
   ]
  },
  {
   "cell_type": "code",
   "execution_count": 3,
   "metadata": {
    "execution": {
     "iopub.execute_input": "2024-03-11T03:58:51.415180Z",
     "iopub.status.busy": "2024-03-11T03:58:51.414497Z",
     "iopub.status.idle": "2024-03-11T03:58:51.431631Z",
     "shell.execute_reply": "2024-03-11T03:58:51.430721Z",
     "shell.execute_reply.started": "2024-03-11T03:58:51.415136Z"
    }
   },
   "outputs": [
    {
     "data": {
      "text/html": [
       "<div>\n",
       "<style scoped>\n",
       "    .dataframe tbody tr th:only-of-type {\n",
       "        vertical-align: middle;\n",
       "    }\n",
       "\n",
       "    .dataframe tbody tr th {\n",
       "        vertical-align: top;\n",
       "    }\n",
       "\n",
       "    .dataframe thead th {\n",
       "        text-align: right;\n",
       "    }\n",
       "</style>\n",
       "<table border=\"1\" class=\"dataframe\">\n",
       "  <thead>\n",
       "    <tr style=\"text-align: right;\">\n",
       "      <th></th>\n",
       "      <th>text</th>\n",
       "      <th>label</th>\n",
       "    </tr>\n",
       "  </thead>\n",
       "  <tbody>\n",
       "    <tr>\n",
       "      <th>6396</th>\n",
       "      <td>Можете проверить номер?</td>\n",
       "      <td>SIM-карта и номер</td>\n",
       "    </tr>\n",
       "    <tr>\n",
       "      <th>24925</th>\n",
       "      <td>Положил единицы на не правильный номер</td>\n",
       "      <td>Баланс</td>\n",
       "    </tr>\n",
       "    <tr>\n",
       "      <th>21877</th>\n",
       "      <td>не могу перевести денги с баланса ператор</td>\n",
       "      <td>Оплата</td>\n",
       "    </tr>\n",
       "    <tr>\n",
       "      <th>13495</th>\n",
       "      <td>ДЛЯ ИНТЕРНЕТА\"</td>\n",
       "      <td>FAQ - тарифы и услуги</td>\n",
       "    </tr>\n",
       "    <tr>\n",
       "      <th>1979</th>\n",
       "      <td>Настроить аппарат вручную</td>\n",
       "      <td>FAQ - интернет</td>\n",
       "    </tr>\n",
       "    <tr>\n",
       "      <th>25417</th>\n",
       "      <td>какие дополнительные услуги есть</td>\n",
       "      <td>Мобильные услуги</td>\n",
       "    </tr>\n",
       "    <tr>\n",
       "      <th>3080</th>\n",
       "      <td>Здравствуйте, могу ли я сменить саой номер на ...</td>\n",
       "      <td>FAQ - тарифы и услуги</td>\n",
       "    </tr>\n",
       "    <tr>\n",
       "      <th>249</th>\n",
       "      <td>тариф</td>\n",
       "      <td>мобильная связь - тарифы</td>\n",
       "    </tr>\n",
       "    <tr>\n",
       "      <th>31923</th>\n",
       "      <td>услуга</td>\n",
       "      <td>Мобильные услуги</td>\n",
       "    </tr>\n",
       "    <tr>\n",
       "      <th>1609</th>\n",
       "      <td>Как перейти на тариф</td>\n",
       "      <td>мобильная связь - тарифы</td>\n",
       "    </tr>\n",
       "  </tbody>\n",
       "</table>\n",
       "</div>"
      ],
      "text/plain": [
       "                                                    text  \\\n",
       "6396                             Можете проверить номер?   \n",
       "24925            Положил единицы на не правильный номер    \n",
       "21877          не могу перевести денги с баланса ператор   \n",
       "13495                                     ДЛЯ ИНТЕРНЕТА\"   \n",
       "1979                           Настроить аппарат вручную   \n",
       "25417                   какие дополнительные услуги есть   \n",
       "3080   Здравствуйте, могу ли я сменить саой номер на ...   \n",
       "249                                                тариф   \n",
       "31923                                             услуга   \n",
       "1609                                Как перейти на тариф   \n",
       "\n",
       "                          label  \n",
       "6396          SIM-карта и номер  \n",
       "24925                    Баланс  \n",
       "21877                    Оплата  \n",
       "13495     FAQ - тарифы и услуги  \n",
       "1979             FAQ - интернет  \n",
       "25417          Мобильные услуги  \n",
       "3080      FAQ - тарифы и услуги  \n",
       "249    мобильная связь - тарифы  \n",
       "31923          Мобильные услуги  \n",
       "1609   мобильная связь - тарифы  "
      ]
     },
     "execution_count": 3,
     "metadata": {},
     "output_type": "execute_result"
    }
   ],
   "source": [
    "df.sample(10)"
   ]
  },
  {
   "cell_type": "code",
   "execution_count": 4,
   "metadata": {
    "execution": {
     "iopub.execute_input": "2024-03-11T03:58:58.230908Z",
     "iopub.status.busy": "2024-03-11T03:58:58.230553Z",
     "iopub.status.idle": "2024-03-11T03:58:58.240131Z",
     "shell.execute_reply": "2024-03-11T03:58:58.239208Z",
     "shell.execute_reply.started": "2024-03-11T03:58:58.230881Z"
    }
   },
   "outputs": [
    {
     "data": {
      "text/plain": [
       "array(['FAQ - тарифы и услуги', 'мобильная связь - тарифы',\n",
       "       'Мобильный интернет', 'FAQ - интернет', 'тарифы - подбор',\n",
       "       'Баланс', 'Мобильные услуги', 'Оплата', 'Личный кабинет',\n",
       "       'SIM-карта и номер', 'Роуминг', 'запрос обратной связи',\n",
       "       'Устройства', 'мобильная связь - зона обслуживания'], dtype=object)"
      ]
     },
     "execution_count": 4,
     "metadata": {},
     "output_type": "execute_result"
    }
   ],
   "source": [
    "# посмотреть какие лейблы вообще есть\n",
    "df.label.unique()"
   ]
  },
  {
   "cell_type": "code",
   "execution_count": 5,
   "metadata": {
    "execution": {
     "iopub.execute_input": "2024-03-11T03:59:00.055919Z",
     "iopub.status.busy": "2024-03-11T03:59:00.055546Z",
     "iopub.status.idle": "2024-03-11T03:59:00.104731Z",
     "shell.execute_reply": "2024-03-11T03:59:00.103783Z",
     "shell.execute_reply.started": "2024-03-11T03:59:00.055888Z"
    }
   },
   "outputs": [
    {
     "name": "stdout",
     "output_type": "stream",
     "text": [
      "91\n",
      "0\n",
      "53\n",
      "0\n"
     ]
    }
   ],
   "source": [
    "# проверяем пустые данные\n",
    "# видим что 91 пустой текст \n",
    "# и 53 лейбла с пустыми строками в качестве текста\n",
    "# это всё надо будет удалить\n",
    "\n",
    "# с лейблами всё в порядке\n",
    "print(df['text'].isnull().sum())\n",
    "print(df['label'].isnull().sum())\n",
    "print((df['text'].str.strip() == '').sum())\n",
    "print((df['label'].str.strip() == '').sum())"
   ]
  },
  {
   "cell_type": "code",
   "execution_count": 9,
   "metadata": {
    "execution": {
     "iopub.execute_input": "2024-03-11T03:59:12.305390Z",
     "iopub.status.busy": "2024-03-11T03:59:12.304485Z",
     "iopub.status.idle": "2024-03-11T03:59:12.334937Z",
     "shell.execute_reply": "2024-03-11T03:59:12.334043Z",
     "shell.execute_reply.started": "2024-03-11T03:59:12.305359Z"
    }
   },
   "outputs": [],
   "source": [
    "# избавляемся от пустых значений\n",
    "# предположим, что при конечном использовании модели\n",
    "# пустой пользовательский ввод будет каким-либо образом запрещён/ограничен\n",
    "df = df.dropna(subset=['text'])\n",
    "df = df[df['text'].str.strip() != '']"
   ]
  },
  {
   "cell_type": "code",
   "execution_count": 10,
   "metadata": {
    "execution": {
     "iopub.execute_input": "2024-03-11T03:59:14.840506Z",
     "iopub.status.busy": "2024-03-11T03:59:14.839768Z",
     "iopub.status.idle": "2024-03-11T03:59:14.865312Z",
     "shell.execute_reply": "2024-03-11T03:59:14.864440Z",
     "shell.execute_reply.started": "2024-03-11T03:59:14.840471Z"
    }
   },
   "outputs": [
    {
     "name": "stdout",
     "output_type": "stream",
     "text": [
      "0\n",
      "0\n"
     ]
    }
   ],
   "source": [
    "# sanity check\n",
    "print(df['text'].isnull().sum())\n",
    "print((df['text'].str.strip() == '').sum())"
   ]
  },
  {
   "cell_type": "code",
   "execution_count": 11,
   "metadata": {
    "execution": {
     "iopub.execute_input": "2024-03-11T03:59:16.788137Z",
     "iopub.status.busy": "2024-03-11T03:59:16.787328Z",
     "iopub.status.idle": "2024-03-11T03:59:17.126455Z",
     "shell.execute_reply": "2024-03-11T03:59:17.125547Z",
     "shell.execute_reply.started": "2024-03-11T03:59:16.788098Z"
    }
   },
   "outputs": [
    {
     "data": {
      "image/png": "[encoded data removed]",
      "text/plain": [
       "<Figure size 400x200 with 1 Axes>"
      ]
     },
     "metadata": {},
     "output_type": "display_data"
    }
   ],
   "source": [
    "# проверка на всякий случай\n",
    "# для понимания какие метрики потом использовать\n",
    "plt.figure(figsize=(4, 2))\n",
    "df['label'].value_counts().sort_values(ascending=False).plot(kind='barh')\n",
    "plt.title('распределение запросов')\n",
    "plt.xlabel('количество запросов')\n",
    "plt.ylabel('запрос', va='center',labelpad=10)\n",
    "plt.show()"
   ]
  },
  {
   "cell_type": "code",
   "execution_count": null,
   "metadata": {
    "execution": {
     "iopub.execute_input": "2024-03-11T03:59:21.360921Z",
     "iopub.status.busy": "2024-03-11T03:59:21.360485Z",
     "iopub.status.idle": "2024-03-11T03:59:21.374930Z",
     "shell.execute_reply": "2024-03-11T03:59:21.374005Z",
     "shell.execute_reply.started": "2024-03-11T03:59:21.360888Z"
    }
   },
   "outputs": [],
   "source": [
    "# label encoding как один из наиболее простых вариантов\n",
    "le = LabelEncoder()\n",
    "df['label'] = le.fit_transform(df['label'])"
   ]
  },
  {
   "cell_type": "code",
   "execution_count": 13,
   "metadata": {
    "execution": {
     "iopub.execute_input": "2024-03-11T03:59:24.680396Z",
     "iopub.status.busy": "2024-03-11T03:59:24.679484Z",
     "iopub.status.idle": "2024-03-11T03:59:25.197609Z",
     "shell.execute_reply": "2024-03-11T03:59:25.196820Z",
     "shell.execute_reply.started": "2024-03-11T03:59:24.680361Z"
    }
   },
   "outputs": [
    {
     "name": "stderr",
     "output_type": "stream",
     "text": [
      "Some weights of DistilBertForSequenceClassification were not initialized from the model checkpoint at distilbert-base-uncased and are newly initialized: ['classifier.bias', 'classifier.weight', 'pre_classifier.bias', 'pre_classifier.weight']\n",
      "You should probably TRAIN this model on a down-stream task to be able to use it for predictions and inference.\n"
     ]
    }
   ],
   "source": [
    "# инициализируем модель и токенайзер\n",
    "name = 'distilbert-base-uncased'\n",
    "tokenizer = DistilBertTokenizer.from_pretrained(name)\n",
    "model = DistilBertForSequenceClassification.from_pretrained(name, num_labels=len(df.label.unique()))"
   ]
  },
  {
   "cell_type": "code",
   "execution_count": 14,
   "metadata": {
    "execution": {
     "iopub.execute_input": "2024-03-11T03:59:30.066884Z",
     "iopub.status.busy": "2024-03-11T03:59:30.066529Z",
     "iopub.status.idle": "2024-03-11T03:59:30.096593Z",
     "shell.execute_reply": "2024-03-11T03:59:30.095686Z",
     "shell.execute_reply.started": "2024-03-11T03:59:30.066856Z"
    }
   },
   "outputs": [],
   "source": [
    "# train/val/test сплиты + стратификация по лейблам\n",
    "# 60/20/20, с 80/10/10 был оверфиттинг\n",
    "\n",
    "train_df, tmp_df = train_test_split(df, test_size=0.4,stratify=df['label'], random_state=42)\n",
    "val_df, test_df = train_test_split(tmp_df, test_size=0.5, stratify=tmp_df['label'],random_state=42)"
   ]
  },
  {
   "cell_type": "code",
   "execution_count": 15,
   "metadata": {
    "execution": {
     "iopub.execute_input": "2024-03-11T03:59:32.256968Z",
     "iopub.status.busy": "2024-03-11T03:59:32.256056Z",
     "iopub.status.idle": "2024-03-11T03:59:32.264693Z",
     "shell.execute_reply": "2024-03-11T03:59:32.263663Z",
     "shell.execute_reply.started": "2024-03-11T03:59:32.256930Z"
    }
   },
   "outputs": [],
   "source": [
    "# кастомный датасет \n",
    "class CustomDataset(Dataset):\n",
    "    def __init__(self, texts, labels, tokenizer, max_len=128):\n",
    "        self.texts = texts\n",
    "        self.labels = labels\n",
    "        self.tokenizer = tokenizer\n",
    "        self.max_len = max_len\n",
    "\n",
    "    def __len__(self):\n",
    "        return len(self.texts)\n",
    "\n",
    "    def __getitem__(self, idx):\n",
    "        res={}\n",
    "        text = self.texts[idx]\n",
    "        label = self.labels[idx]\n",
    "        \n",
    "        encoding = self.tokenizer(\n",
    "            text,\n",
    "            return_tensors='pt',\n",
    "            max_length=self.max_len,\n",
    "            padding='max_length',\n",
    "            truncation=True,\n",
    "            return_attention_mask=True,)\n",
    "        \n",
    "        res['input_ids'] = encoding['input_ids'].flatten()\n",
    "        res['attention_mask'] = encoding['attention_mask'].flatten()\n",
    "        res['labels']= torch.tensor(label, dtype=torch.long)\n",
    "        \n",
    "        return res"
   ]
  },
  {
   "cell_type": "code",
   "execution_count": 16,
   "metadata": {
    "execution": {
     "iopub.execute_input": "2024-03-11T03:59:34.065637Z",
     "iopub.status.busy": "2024-03-11T03:59:34.064820Z",
     "iopub.status.idle": "2024-03-11T03:59:34.072701Z",
     "shell.execute_reply": "2024-03-11T03:59:34.071535Z",
     "shell.execute_reply.started": "2024-03-11T03:59:34.065599Z"
    }
   },
   "outputs": [],
   "source": [
    "# делим на 3 датасета\n",
    "train_dataset = CustomDataset(train_df['text'].values, train_df['label'].values, tokenizer)\n",
    "val_dataset = CustomDataset(val_df['text'].values, val_df['label'].values, tokenizer)\n",
    "test_dataset = CustomDataset(test_df['text'].values, test_df['label'].values, tokenizer)"
   ]
  },
  {
   "cell_type": "code",
   "execution_count": 17,
   "metadata": {
    "execution": {
     "iopub.execute_input": "2024-03-11T03:59:38.395169Z",
     "iopub.status.busy": "2024-03-11T03:59:38.394424Z",
     "iopub.status.idle": "2024-03-11T03:59:38.400145Z",
     "shell.execute_reply": "2024-03-11T03:59:38.399276Z",
     "shell.execute_reply.started": "2024-03-11T03:59:38.395124Z"
    }
   },
   "outputs": [],
   "source": [
    "# загружаем сплиты в dataloader\n",
    "train_loader = DataLoader(train_dataset, batch_size=8, shuffle=True)\n",
    "val_loader = DataLoader(val_dataset, batch_size=8, shuffle=False)\n",
    "test_loader = DataLoader(test_dataset, batch_size=8, shuffle=False)"
   ]
  },
  {
   "cell_type": "code",
   "execution_count": 20,
   "metadata": {
    "execution": {
     "iopub.execute_input": "2024-03-11T04:00:07.284912Z",
     "iopub.status.busy": "2024-03-11T04:00:07.284546Z",
     "iopub.status.idle": "2024-03-11T04:00:07.470599Z",
     "shell.execute_reply": "2024-03-11T04:00:07.469803Z",
     "shell.execute_reply.started": "2024-03-11T04:00:07.284883Z"
    }
   },
   "outputs": [],
   "source": [
    "# перекидываем на gpu\n",
    "device = torch.device(\"cuda\" if torch.cuda.is_available() else \"cpu\")\n",
    "model.to(device)\n",
    "\n",
    "# определяем оптимизатор и ф-ю потерь\n",
    "optimizer = AdamW(model.parameters(), lr=3e-5, weight_decay=1e-5)\n",
    "loss_fn = nn.CrossEntropyLoss()"
   ]
  },
  {
   "cell_type": "code",
   "execution_count": 21,
   "metadata": {
    "execution": {
     "iopub.execute_input": "2024-03-11T04:00:13.201061Z",
     "iopub.status.busy": "2024-03-11T04:00:13.200225Z",
     "iopub.status.idle": "2024-03-11T04:08:38.716482Z",
     "shell.execute_reply": "2024-03-11T04:08:38.715550Z",
     "shell.execute_reply.started": "2024-03-11T04:00:13.201031Z"
    }
   },
   "outputs": [
    {
     "name": "stderr",
     "output_type": "stream",
     "text": [
      "train epoch 1/3: 100%|██████████| 2450/2450 [02:25<00:00, 16.83it/s]\n"
     ]
    },
    {
     "name": "stdout",
     "output_type": "stream",
     "text": [
      "train loss: 1.044612952215331\n"
     ]
    },
    {
     "name": "stderr",
     "output_type": "stream",
     "text": [
      "val epoch 1/3: 100%|██████████| 817/817 [00:17<00:00, 47.07it/s]\n"
     ]
    },
    {
     "name": "stdout",
     "output_type": "stream",
     "text": [
      "val loss: 1.9061318635940552\n",
      "val f1-score: 0.7630511760796989\n"
     ]
    },
    {
     "name": "stderr",
     "output_type": "stream",
     "text": [
      "train epoch 2/3: 100%|██████████| 2450/2450 [02:25<00:00, 16.87it/s]\n"
     ]
    },
    {
     "name": "stdout",
     "output_type": "stream",
     "text": [
      "train loss: 0.6738497840232995\n"
     ]
    },
    {
     "name": "stderr",
     "output_type": "stream",
     "text": [
      "val epoch 2/3: 100%|██████████| 817/817 [00:17<00:00, 47.10it/s]\n"
     ]
    },
    {
     "name": "stdout",
     "output_type": "stream",
     "text": [
      "val loss: 1.5480443239212036\n",
      "val f1-score: 0.781640539975719\n"
     ]
    },
    {
     "name": "stderr",
     "output_type": "stream",
     "text": [
      "train epoch 3/3: 100%|██████████| 2450/2450 [02:25<00:00, 16.86it/s]\n"
     ]
    },
    {
     "name": "stdout",
     "output_type": "stream",
     "text": [
      "train loss: 0.5561659072347137\n"
     ]
    },
    {
     "name": "stderr",
     "output_type": "stream",
     "text": [
      "val epoch 3/3: 100%|██████████| 817/817 [00:17<00:00, 47.29it/s]\n"
     ]
    },
    {
     "name": "stdout",
     "output_type": "stream",
     "text": [
      "val loss: 1.0147523880004883\n",
      "val f1-score: 0.792634402597137\n"
     ]
    },
    {
     "name": "stderr",
     "output_type": "stream",
     "text": [
      "testing: 100%|██████████| 817/817 [00:17<00:00, 47.12it/s]\n"
     ]
    }
   ],
   "source": [
    "# основная часть -- training/eval loops\n",
    "epochs = 3\n",
    "train_losses = []\n",
    "val_losses = []\n",
    "f1_scores = []\n",
    "\n",
    "for epoch in range(epochs):\n",
    "    # обучение\n",
    "    model.train()\n",
    "    total_loss = 0\n",
    "    for batch in tqdm(train_loader, desc=f'train epoch {epoch + 1}/{epochs}'):\n",
    "        input_ids = batch['input_ids'].to(device)\n",
    "        attention_mask = batch['attention_mask'].to(device)\n",
    "        labels = batch['labels'].to(device)\n",
    "\n",
    "        optimizer.zero_grad()\n",
    "\n",
    "        outputs = model(input_ids, attention_mask=attention_mask, labels=labels)\n",
    "        loss = outputs.loss\n",
    "        total_loss += loss.item()\n",
    "\n",
    "        loss.backward()\n",
    "        optimizer.step()\n",
    "\n",
    "    avg_train_loss = total_loss / len(train_loader)\n",
    "    train_losses.append(avg_train_loss)\n",
    "    print(f'train loss: {avg_train_loss}')\n",
    "\n",
    "    # валидация\n",
    "    model.eval()\n",
    "    val_preds = []\n",
    "    val_labels = []\n",
    "\n",
    "    with torch.no_grad():\n",
    "        for batch in tqdm(val_loader, desc=f'val epoch {epoch + 1}/{epochs}'):\n",
    "            input_ids = batch['input_ids'].to(device)\n",
    "            attention_mask = batch['attention_mask'].to(device)\n",
    "            labels = batch['labels'].to(device)\n",
    "\n",
    "            outputs = model(input_ids, attention_mask=attention_mask)\n",
    "            logits = outputs.logits\n",
    "            preds = torch.argmax(logits, dim=1)\n",
    "\n",
    "            val_preds.extend(preds.cpu().numpy())\n",
    "            val_labels.extend(labels.cpu().numpy())\n",
    "\n",
    "    val_loss = loss_fn(logits, labels)\n",
    "    val_losses.append(val_loss.item())\n",
    "\n",
    "    val_f1 = f1_score(val_labels, val_preds, average='weighted')\n",
    "    f1_scores.append(val_f1)\n",
    "\n",
    "    print(f'val loss: {val_loss.item()}')\n",
    "    print(f'val f1-score: {val_f1}')\n",
    "\n",
    "# тест\n",
    "model.eval()\n",
    "test_preds = []\n",
    "test_labels = []\n",
    "\n",
    "with torch.no_grad():\n",
    "    for batch in tqdm(test_loader, desc='testing'):\n",
    "        input_ids = batch['input_ids'].to(device)\n",
    "        attention_mask = batch['attention_mask'].to(device)\n",
    "        labels = batch['labels'].to(device)\n",
    "\n",
    "        outputs = model(input_ids, attention_mask=attention_mask)\n",
    "        logits = outputs.logits\n",
    "        preds = torch.argmax(logits, dim=1)\n",
    "\n",
    "        test_preds.extend(preds.cpu().numpy())\n",
    "        test_labels.extend(labels.cpu().numpy())\n"
   ]
  },
  {
   "cell_type": "code",
   "execution_count": 33,
   "metadata": {
    "execution": {
     "iopub.execute_input": "2024-03-11T04:12:57.070480Z",
     "iopub.status.busy": "2024-03-11T04:12:57.070100Z",
     "iopub.status.idle": "2024-03-11T04:12:57.365397Z",
     "shell.execute_reply": "2024-03-11T04:12:57.364436Z",
     "shell.execute_reply.started": "2024-03-11T04:12:57.070445Z"
    }
   },
   "outputs": [
    {
     "name": "stdout",
     "output_type": "stream",
     "text": [
      "test accuracy: 0.8032761788120024\n",
      "test precision: 0.8036458103312727\n",
      "test recall: 0.8032761788120024\n",
      "test fi-score: 0.8003754343299809\n"
     ]
    },
    {
     "data": {
      "image/png": "[encoded data removed]",
      "text/plain": [
       "<Figure size 640x480 with 1 Axes>"
      ]
     },
     "metadata": {},
     "output_type": "display_data"
    }
   ],
   "source": [
    "# accuracy для полноты картины\n",
    "# но вообще классы явно (см. выше) несбалансированные, т.ч. особо в нём смысла нет\n",
    "\n",
    "test_accuracy = accuracy_score(test_labels, test_preds)\n",
    "test_precision = precision_score(test_labels, test_preds, average='weighted')\n",
    "test_recall = recall_score(test_labels, test_preds, average='weighted')\n",
    "test_f1 = f1_score(test_labels, test_preds, average='weighted')\n",
    "\n",
    "print(f'test accuracy: {test_accuracy}')\n",
    "print(f'test precision: {test_precision}')\n",
    "print(f'test recall: {test_recall}')\n",
    "print(f'test f1-score: {test_f1}')\n",
    "\n",
    "# график для \n",
    "plt.plot(train_losses, label='train loss')\n",
    "plt.plot(val_losses, label='val loss')\n",
    "plt.xlabel('epoch')\n",
    "plt.ylabel('loss')\n",
    "plt.legend()\n",
    "plt.show()"
   ]
  },
  {
   "cell_type": "code",
   "execution_count": 58,
   "metadata": {
    "execution": {
     "iopub.execute_input": "2024-03-11T04:20:40.142137Z",
     "iopub.status.busy": "2024-03-11T04:20:40.141672Z",
     "iopub.status.idle": "2024-03-11T04:20:40.183662Z",
     "shell.execute_reply": "2024-03-11T04:20:40.182791Z",
     "shell.execute_reply.started": "2024-03-11T04:20:40.142098Z"
    }
   },
   "outputs": [
    {
     "name": "stdout",
     "output_type": "stream",
     "text": [
      "\n",
      "Запрос:'найдите тпариф'\n",
      "Метка: мобильная связь - тарифы\n",
      "\n",
      "Запрос:'сколько осталось денег??'\n",
      "Метка: Баланс\n",
      "\n",
      "Запрос:'Сколько стоит звонок из другой страны'\n",
      "Метка: Роуминг\n",
      "\n",
      "Запрос:'я уже два года жду ваш ответ!!!'\n",
      "Метка: запрос обратной связи\n",
      "\n",
      "Запрос:'как узнать свой телефон'\n",
      "Метка: SIM-карта и номер\n"
     ]
    }
   ],
   "source": [
    "# немного собственных примеров\n",
    "# в частности для одного из наименее редких классов (запрос обратной связи)\n",
    "ex_questions = ['найдите тпариф', 'сколько осталось денег??',\n",
    "                'Сколько стоит звонок из другой страны',\n",
    "               'я уже два года жду ваш ответ!!!',\n",
    "               'как узнать свой телефон']\n",
    "\n",
    "for question in ex_questions:\n",
    "    tokenized_input = tokenizer(question, return_tensors='pt')\n",
    "    input_ids = tokenized_input['input_ids'].to('cuda')\n",
    "    attention_mask = tokenized_input['attention_mask'].to('cuda')\n",
    "\n",
    "    model.eval()\n",
    "    with torch.no_grad():\n",
    "        logits = model(input_ids, attention_mask=attention_mask).logits\n",
    "\n",
    "    quest_label = torch.argmax(logits, dim=1).item()\n",
    "    pred_class = le.classes_[quest_label]\n",
    "\n",
    "    print(f\"\\nЗапрос:'{question}'\\nМетка: {pred_class}\")\n"
   ]
  },
  {
   "cell_type": "code",
   "execution_count": null,
   "metadata": {},
   "outputs": [],
   "source": []
  }
 ],
 "metadata": {
  "kaggle": {
   "accelerator": "gpu",
   "dataSources": [
    {
     "datasetId": 4574933,
     "sourceId": 7810974,
     "sourceType": "datasetVersion"
    }
   ],
   "dockerImageVersionId": 30665,
   "isGpuEnabled": true,
   "isInternetEnabled": true,
   "language": "python",
   "sourceType": "notebook"
  },
  "kernelspec": {
   "display_name": "Python 3 (ipykernel)",
   "language": "python",
   "name": "python3"
  },
  "language_info": {
   "codemirror_mode": {
    "name": "ipython",
    "version": 3
   },
   "file_extension": ".py",
   "mimetype": "text/x-python",
   "name": "python",
   "nbconvert_exporter": "python",
   "pygments_lexer": "ipython3",
   "version": "3.10.9"
  }
 },
 "nbformat": 4,
 "nbformat_minor": 4
}
